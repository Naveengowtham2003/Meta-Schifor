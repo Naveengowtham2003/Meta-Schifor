{
  "nbformat": 4,
  "nbformat_minor": 0,
  "metadata": {
    "colab": {
      "provenance": [],
      "toc_visible": true,
      "authorship_tag": "ABX9TyMDWZfMsWrmEcPJR0YC7XCx",
      "include_colab_link": true
    },
    "kernelspec": {
      "name": "python3",
      "display_name": "Python 3"
    },
    "language_info": {
      "name": "python"
    }
  },
  "cells": [
    {
      "cell_type": "markdown",
      "metadata": {
        "id": "view-in-github",
        "colab_type": "text"
      },
      "source": [
        "<a href=\"https://colab.research.google.com/github/Naveengowtham2003/Meta-Schifor/blob/main/Assaignment_2.ipynb\" target=\"_parent\"><img src=\"https://colab.research.google.com/assets/colab-badge.svg\" alt=\"Open In Colab\"/></a>"
      ]
    },
    {
      "cell_type": "markdown",
      "source": [
        "#Sets Assaignment\n"
      ],
      "metadata": {
        "id": "2PIqoS45ormG"
      }
    },
    {
      "cell_type": "code",
      "source": [
        "pl = {\"python\", \"C-Programming\", \"Java\",\"Java\",\"Swift\"}\n",
        "pl\n"
      ],
      "metadata": {
        "colab": {
          "base_uri": "https://localhost:8080/",
          "height": 34
        },
        "id": "7iYlWU5woyvL",
        "outputId": "ee757459-d9e0-4a0d-a581-6be9c2adb252"
      },
      "execution_count": null,
      "outputs": [
        {
          "output_type": "display_data",
          "data": {
            "text/plain": [
              "{'C-Programming', 'Java', 'Swift', 'python'}"
            ]
          },
          "metadata": {}
        }
      ]
    },
    {
      "cell_type": "markdown",
      "source": [
        "##True----->1,False----->0"
      ],
      "metadata": {
        "id": "PbBwCIBapfA3"
      }
    },
    {
      "cell_type": "code",
      "source": [
        "s1= {1,0,True,False}\n",
        "s2  = {True,False,0,1}\n",
        "s1,s2"
      ],
      "metadata": {
        "colab": {
          "base_uri": "https://localhost:8080/"
        },
        "id": "kf4clw3Dptdz",
        "outputId": "fb767c89-6d2f-41a3-b0f6-4558a26d3d4d"
      },
      "execution_count": null,
      "outputs": [
        {
          "output_type": "execute_result",
          "data": {
            "text/plain": [
              "({0, 1}, {False, True})"
            ]
          },
          "metadata": {},
          "execution_count": 10
        }
      ]
    },
    {
      "cell_type": "markdown",
      "source": [
        "## Length and Type Function"
      ],
      "metadata": {
        "id": "fLKXArHjrVHL"
      }
    },
    {
      "cell_type": "markdown",
      "source": [
        "To find the length of a set we can use len() function and to find the type of a place holder we can use type() function"
      ],
      "metadata": {
        "id": "tv5b0MPjtBCT"
      }
    },
    {
      "cell_type": "code",
      "source": [
        "s1.add(\"Hello\")\n",
        "s2.add(\"New\")\n",
        "s2= list(s2)\n",
        "print(\" Elements in set s1:\",s1,\"\\n\",\"Elements in s2:\",s2,\"\\n\",\"Length of s1:\",len(s1),\"\\n\",\"Length of s2:\",len(s2),\"\\n\",\"Typeof s1:\",type(s1),\"\\n\",\"Type of s2:\",type(s2))"
      ],
      "metadata": {
        "colab": {
          "base_uri": "https://localhost:8080/"
        },
        "id": "589XyOoSrbu4",
        "outputId": "973da154-8433-41d3-aa58-3a08c52aa1d2"
      },
      "execution_count": null,
      "outputs": [
        {
          "output_type": "stream",
          "name": "stdout",
          "text": [
            " Elements in set s1: {0, 1, 'Hello'} \n",
            " Elements in s2: [False, True, 'New'] \n",
            " Length of s1: 3 \n",
            " Length of s2: 3 \n",
            " Typeof s1: <class 'set'> \n",
            " Type of s2: <class 'list'>\n"
          ]
        }
      ]
    },
    {
      "cell_type": "markdown",
      "source": [
        "## Accessing/Traversing Elements in a set"
      ],
      "metadata": {
        "id": "JnZ9vuv0tP2C"
      }
    },
    {
      "cell_type": "code",
      "source": [
        "value_Set = {1,2,3,4,5}\n",
        "for value in value_Set:\n",
        "  print(value)"
      ],
      "metadata": {
        "colab": {
          "base_uri": "https://localhost:8080/"
        },
        "id": "DyPzt5X8tenq",
        "outputId": "efe33597-9a6f-443e-d926-d780beeee0aa"
      },
      "execution_count": null,
      "outputs": [
        {
          "output_type": "stream",
          "name": "stdout",
          "text": [
            "1\n",
            "2\n",
            "3\n",
            "4\n",
            "5\n"
          ]
        }
      ]
    },
    {
      "cell_type": "markdown",
      "source": [
        "## Adding/updating/removing elements in  a set"
      ],
      "metadata": {
        "id": "7zQJioZKuPRA"
      }
    },
    {
      "cell_type": "code",
      "source": [
        "a = set()\n",
        "a.add(1)\n",
        "a.add(2)\n",
        "a.add(3)\n",
        "a"
      ],
      "metadata": {
        "colab": {
          "base_uri": "https://localhost:8080/"
        },
        "id": "ZQqVEaw2uWqT",
        "outputId": "41a60eb4-7197-4cf4-99a9-8b05113fb450"
      },
      "execution_count": null,
      "outputs": [
        {
          "output_type": "execute_result",
          "data": {
            "text/plain": [
              "{1, 2, 3}"
            ]
          },
          "metadata": {},
          "execution_count": 35
        }
      ]
    },
    {
      "cell_type": "code",
      "source": [
        "b = set()\n",
        "b.add(4)\n",
        "b.add(5)\n",
        "b.add(6)\n",
        "a.update(b)\n",
        "print(\" Value of a:\",a,\"\\n\",\"values of b:\",b)"
      ],
      "metadata": {
        "colab": {
          "base_uri": "https://localhost:8080/"
        },
        "id": "rGfrAT51vDx-",
        "outputId": "7c957431-164d-4d5f-88ce-b7515f6c49b6"
      },
      "execution_count": null,
      "outputs": [
        {
          "output_type": "stream",
          "name": "stdout",
          "text": [
            " Value of a: {1, 2, 3, 4, 5, 6} \n",
            " values of b: {4, 5, 6}\n"
          ]
        }
      ]
    },
    {
      "cell_type": "code",
      "source": [
        "a.remove(1)\n",
        "a"
      ],
      "metadata": {
        "colab": {
          "base_uri": "https://localhost:8080/"
        },
        "id": "iByz_L8fvcT1",
        "outputId": "f6fc48ab-25b8-4e04-86fe-ae20f85df8f0"
      },
      "execution_count": null,
      "outputs": [
        {
          "output_type": "execute_result",
          "data": {
            "text/plain": [
              "{2, 3, 4, 5, 6}"
            ]
          },
          "metadata": {},
          "execution_count": 37
        }
      ]
    },
    {
      "cell_type": "code",
      "source": [
        "a.pop()"
      ],
      "metadata": {
        "colab": {
          "base_uri": "https://localhost:8080/"
        },
        "id": "uMEnpia3vpvB",
        "outputId": "947c6cd7-a7cb-4220-a544-844eb09fdf9b"
      },
      "execution_count": null,
      "outputs": [
        {
          "output_type": "execute_result",
          "data": {
            "text/plain": [
              "2"
            ]
          },
          "metadata": {},
          "execution_count": 38
        }
      ]
    },
    {
      "cell_type": "markdown",
      "source": [
        "##union/Intersection/Difference/Symetric Difference/"
      ],
      "metadata": {
        "id": "MLA1_KfhwUPE"
      }
    },
    {
      "cell_type": "code",
      "source": [
        "set1 = {\"a\",\"b\",\"c\",\"d\"}\n",
        "set2 = {\"e\",\"f\",\"g\",\"h\"}\n",
        "set3 = {\"h\",\"i\",\"j\",\"k\"}\n",
        "set4 = set1.union(set2) #union\n",
        "set4"
      ],
      "metadata": {
        "colab": {
          "base_uri": "https://localhost:8080/"
        },
        "id": "zfKF_p7BwmKS",
        "outputId": "c14e6f3a-2cc9-4dcb-86e6-4a6d025bfd44"
      },
      "execution_count": null,
      "outputs": [
        {
          "output_type": "execute_result",
          "data": {
            "text/plain": [
              "{'a', 'b', 'c', 'd', 'e', 'f', 'g', 'h'}"
            ]
          },
          "metadata": {},
          "execution_count": 44
        }
      ]
    },
    {
      "cell_type": "code",
      "source": [
        "new_set = set1 | set2 | set3 |set4\n",
        "new_set"
      ],
      "metadata": {
        "colab": {
          "base_uri": "https://localhost:8080/"
        },
        "id": "q3JdvI5d3Ewp",
        "outputId": "8bae3c9f-de40-4284-b01c-28fbd66a8354"
      },
      "execution_count": null,
      "outputs": [
        {
          "output_type": "execute_result",
          "data": {
            "text/plain": [
              "{'a', 'b', 'c', 'd', 'e', 'f', 'g', 'h', 'i', 'j', 'k'}"
            ]
          },
          "metadata": {},
          "execution_count": 45
        }
      ]
    },
    {
      "cell_type": "code",
      "source": [
        "set5= {\"a\",\"b\",\"c\",\"d\"}\n",
        "set6 = {\"a\",\"f\",\"c\",\"h\"}\n",
        "set7 = set5.intersection(set6) #Intersection\n",
        "set7"
      ],
      "metadata": {
        "colab": {
          "base_uri": "https://localhost:8080/"
        },
        "id": "iT7_8zmy3K7E",
        "outputId": "ec0064fd-a6d0-4ec2-d4eb-b5af5f7a577e"
      },
      "execution_count": null,
      "outputs": [
        {
          "output_type": "execute_result",
          "data": {
            "text/plain": [
              "{'a', 'c'}"
            ]
          },
          "metadata": {},
          "execution_count": 46
        }
      ]
    },
    {
      "cell_type": "code",
      "source": [
        "D_set = set5 & set6\n",
        "D_set"
      ],
      "metadata": {
        "colab": {
          "base_uri": "https://localhost:8080/"
        },
        "id": "CHss6HOn3lEB",
        "outputId": "182c0273-d882-4e42-d069-7846ce965e84"
      },
      "execution_count": null,
      "outputs": [
        {
          "output_type": "execute_result",
          "data": {
            "text/plain": [
              "{'a', 'c'}"
            ]
          },
          "metadata": {},
          "execution_count": 47
        }
      ]
    },
    {
      "cell_type": "code",
      "source": [
        "diff_set = set1.difference(set2) #Difference\n",
        "diff_set"
      ],
      "metadata": {
        "colab": {
          "base_uri": "https://localhost:8080/"
        },
        "id": "0M1obJL334fW",
        "outputId": "f8f527ad-a634-4459-845d-5d8f43a87108"
      },
      "execution_count": null,
      "outputs": [
        {
          "output_type": "execute_result",
          "data": {
            "text/plain": [
              "{'a', 'b', 'c', 'd'}"
            ]
          },
          "metadata": {},
          "execution_count": 48
        }
      ]
    },
    {
      "cell_type": "code",
      "source": [
        "diff_set2 = set1 - set2\n",
        "diff_set2"
      ],
      "metadata": {
        "colab": {
          "base_uri": "https://localhost:8080/"
        },
        "id": "8Hw32ajL4G0H",
        "outputId": "05aaf2b3-1c47-4a32-9b8b-634feda9d6a1"
      },
      "execution_count": null,
      "outputs": [
        {
          "output_type": "execute_result",
          "data": {
            "text/plain": [
              "{'a', 'b', 'c', 'd'}"
            ]
          },
          "metadata": {},
          "execution_count": 49
        }
      ]
    },
    {
      "cell_type": "code",
      "source": [
        "symmetric1 = set1.symmetric_difference(set2) #Symmetric Difference\n",
        "symmetric1\n"
      ],
      "metadata": {
        "colab": {
          "base_uri": "https://localhost:8080/"
        },
        "id": "PYOWaLfy4OlQ",
        "outputId": "3446ea9f-ac21-4554-9e62-79b79703384b"
      },
      "execution_count": null,
      "outputs": [
        {
          "output_type": "execute_result",
          "data": {
            "text/plain": [
              "{'a', 'b', 'c', 'd', 'e', 'f', 'g', 'h'}"
            ]
          },
          "metadata": {},
          "execution_count": 52
        }
      ]
    },
    {
      "cell_type": "code",
      "source": [
        "symmetric2 = set1 ^ set2\n",
        "symmetric2"
      ],
      "metadata": {
        "colab": {
          "base_uri": "https://localhost:8080/"
        },
        "id": "bLkcRJu94ZN2",
        "outputId": "03096c7c-92d8-4d08-b453-6728623c0616"
      },
      "execution_count": null,
      "outputs": [
        {
          "output_type": "execute_result",
          "data": {
            "text/plain": [
              "{'a', 'b', 'c', 'd', 'e', 'f', 'g', 'h'}"
            ]
          },
          "metadata": {},
          "execution_count": 53
        }
      ]
    },
    {
      "cell_type": "markdown",
      "source": [
        "# File Handling\n"
      ],
      "metadata": {
        "id": "Tj7qBUQs4pIg"
      }
    },
    {
      "cell_type": "markdown",
      "source": [
        "## Opening the file in R mode"
      ],
      "metadata": {
        "id": "p56c7UsE_UnR"
      }
    },
    {
      "cell_type": "code",
      "source": [
        "t= open(\"TEST.txt\", \"r\")\n",
        "print(t.read())"
      ],
      "metadata": {
        "colab": {
          "base_uri": "https://localhost:8080/"
        },
        "id": "jCgfToJp44fJ",
        "outputId": "39e495d0-6fa2-4f3f-a18d-835567a71a84"
      },
      "execution_count": null,
      "outputs": [
        {
          "output_type": "stream",
          "name": "stdout",
          "text": [
            "Hi\n",
            "this \n",
            "is a\n",
            "Assignmet\n",
            "\n"
          ]
        }
      ]
    },
    {
      "cell_type": "markdown",
      "source": [
        "## Traversing through the file\n"
      ],
      "metadata": {
        "id": "cgj8YaSl_Yy1"
      }
    },
    {
      "cell_type": "code",
      "source": [
        "t= open(\"TEST.txt\", \"r\")\n",
        "for i in t :\n",
        "  print(i)"
      ],
      "metadata": {
        "colab": {
          "base_uri": "https://localhost:8080/"
        },
        "id": "Zhfilc-t4yD-",
        "outputId": "8bfe70c3-9ba0-4354-b745-33abdc398f31"
      },
      "execution_count": null,
      "outputs": [
        {
          "output_type": "stream",
          "name": "stdout",
          "text": [
            "Hi\n",
            "\n",
            "this \n",
            "\n",
            "is a\n",
            "\n",
            "Assignmet\n",
            "\n"
          ]
        }
      ]
    },
    {
      "cell_type": "markdown",
      "source": [
        "## Reading the first line of the file"
      ],
      "metadata": {
        "id": "bAN589sO_OXl"
      }
    },
    {
      "cell_type": "code",
      "source": [
        "t = open(\"TEST.txt\", \"r\")\n",
        "print(t.readline())\n",
        "t.close()"
      ],
      "metadata": {
        "colab": {
          "base_uri": "https://localhost:8080/"
        },
        "id": "GpK3217c6C_N",
        "outputId": "46c45539-3639-42c9-a3bf-6adee5fad54b"
      },
      "execution_count": null,
      "outputs": [
        {
          "output_type": "stream",
          "name": "stdout",
          "text": [
            "Hi\n",
            "\n"
          ]
        }
      ]
    },
    {
      "cell_type": "markdown",
      "source": [
        "## Appending text to file"
      ],
      "metadata": {
        "id": "1QoyPWN7_Ex-"
      }
    },
    {
      "cell_type": "code",
      "source": [
        "t = open(\"TEST.txt\", \"a\")\n",
        "t.write(\"Appending text\")\n",
        "t.close()\n",
        "t = open(\"TEST.txt\", \"r\")\n",
        "print(t.read())\n"
      ],
      "metadata": {
        "colab": {
          "base_uri": "https://localhost:8080/"
        },
        "id": "wS9UryEp6O0E",
        "outputId": "176a8be2-e55c-48f5-8dbd-e19dbcd49b71"
      },
      "execution_count": null,
      "outputs": [
        {
          "output_type": "stream",
          "name": "stdout",
          "text": [
            "Hi\n",
            "this \n",
            "is a\n",
            "Assignmet\n",
            "Appending textAppending text\n"
          ]
        }
      ]
    },
    {
      "cell_type": "markdown",
      "source": [
        "## Deleting the file"
      ],
      "metadata": {
        "id": "NyaHRTGR7GB1"
      }
    },
    {
      "cell_type": "code",
      "source": [
        "import os\n",
        "try:\n",
        "  os.remove(\"t1.txt\")\n",
        "except:\n",
        "  print(\"The file does not exist\")"
      ],
      "metadata": {
        "colab": {
          "base_uri": "https://localhost:8080/"
        },
        "id": "1dV0Bhok7K-n",
        "outputId": "f9df652f-6f6f-4939-b965-1f6c55fece6d"
      },
      "execution_count": null,
      "outputs": [
        {
          "output_type": "stream",
          "name": "stdout",
          "text": [
            "The file does not exist\n"
          ]
        }
      ]
    },
    {
      "cell_type": "code",
      "source": [
        "try:\n",
        "  os.remove(\"TEST.txt\")\n",
        "  print(\"File Deleted Successfully\")\n",
        "except:\n",
        "  print(\"The file does not exist\")"
      ],
      "metadata": {
        "colab": {
          "base_uri": "https://localhost:8080/"
        },
        "id": "R8SdT4la-sND",
        "outputId": "9a6884f4-3360-49e5-8feb-124f18af67b2"
      },
      "execution_count": null,
      "outputs": [
        {
          "output_type": "stream",
          "name": "stdout",
          "text": [
            "File Deleted Successfully\n"
          ]
        }
      ]
    },
    {
      "cell_type": "code",
      "source": [
        "class add:\n",
        "  def __init__(x,y):\n",
        "    x =x\n",
        "    y=y\n",
        "  def ask(x,y):\n",
        "    return(x+y)\n",
        "print(add.ask(1,2))"
      ],
      "metadata": {
        "colab": {
          "base_uri": "https://localhost:8080/"
        },
        "id": "FL9WToVYrB1R",
        "outputId": "bb64fba9-8bfb-4552-bce4-03542253c672"
      },
      "execution_count": null,
      "outputs": [
        {
          "output_type": "stream",
          "name": "stdout",
          "text": [
            "3\n"
          ]
        }
      ]
    }
  ]
}